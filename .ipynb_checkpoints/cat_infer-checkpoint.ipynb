{
 "cells": [
  {
   "cell_type": "code",
   "execution_count": 26,
   "metadata": {
    "collapsed": true
   },
   "outputs": [],
   "source": [
    "import mymodel as md\n",
    "import numpy as np\n",
    "import sys\n",
    "import pylab as plt\n",
    "cos=md.Cosmology()\n",
    "gal=md.AstroDistribution()\n",
    "ldf=md.Loadfiles()"
   ]
  },
  {
   "cell_type": "code",
   "execution_count": 27,
   "metadata": {
    "collapsed": true
   },
   "outputs": [],
   "source": [
    "def zlikf(vz,dme):\n",
    "    dmi = cos.DispersionMeasure_IGM(vz)\n",
    "    u1 = (dme-dmi)*(1+vz)*gal.kappa(vz)\n",
    "    u2 = ((dme-dmi)*(1+vz)-gal.DMsmax)*gal.kappa(vz)\n",
    "    logint = np.ones(u2.shape) * (-1e99)\n",
    "    ind = u2 > 0\n",
    "    logint[ind] = gal.log_IntegrateFd(u1[ind], u2[ind], 'ALG_YMW16')\n",
    "    logfs = np.log(1/(gal.DMsmax))\n",
    "    logfz = gal.log_Distribution_volume(vz)\n",
    "    #likv=gal.Distribution_volume(vz)*gal.Distribution_HostGalaxyDM(vdm, 'ALG_YMW16')*np.sqrt(gal.SFR(0) /gal.SFR(vz))*(1+vz)\n",
    "    loglikv = logfz + logint + logfs + np.log(1+vz)\n",
    "    return loglikv\n",
    "\n",
    "def lumlikf(vloglum, dme, flux, eflux_u, eflux_l):\n",
    "    BW=1e9\n",
    "    vz=np.arange(1e-4, 5, 1e-3)\n",
    "    vlum=np.power(10., vloglum)\n",
    "    res=vlum.copy()\n",
    "    for i in range(0, len(vlum)):\n",
    "        lum=vlum[i]\n",
    "        #rlum=cos.Luminosity_Distance(vz)\n",
    "        #tmp=(lum/(rlum*rlum*4*np.pi*BW*cos.Jy2CGS)-flux)\n",
    "        tmp = cos.Luminosity_to_Flux(vz, lum)-flux\n",
    "        tmp[tmp>=0]=tmp[tmp>0]/eflux_u\n",
    "        tmp[tmp<0]=tmp[tmp<0]/eflux_l\n",
    "        \n",
    "        dmi = cos.DispersionMeasure_IGM(vz)\n",
    "        u1 = (dme-dmi)*(1+vz)*gal.kappa(vz)\n",
    "        u2 = ((dme-dmi)*(1+vz)-gal.DMsmax)*gal.kappa(vz)\n",
    "        logint = np.ones(u2.shape) * (-1e99)\n",
    "        ind = u2 > 0\n",
    "        logint[ind] = gal.log_IntegrateFd(u1[ind], u2[ind], 'ALG_YMW16')\n",
    "        logfs = np.log(1/(gal.DMsmax))\n",
    "        logfz = gal.log_Distribution_volume(vz)\n",
    "        #vdm = dmh*np.sqrt(gal.SFR(0)/gal.SFR(vz))\n",
    "        #tmp2=cos.dVdz(vz)*gal.Distribution_HostGalaxyDM(vdm, 'ALG_YMW16')*np.sqrt(gal.SFR(0) /gal.SFR(vz))\n",
    "        #tmp2=gal.Distribution_volume(vz)*gal.Distribution_HostGalaxyDM(vdm, 'ALG_YMW16')*np.sqrt(gal.SFR(0)/gal.SFR(vz))*(1+vz)\n",
    "        tmp2 = np.exp(logint)*gal.Distribution_volume(vz)*(1+vz)\n",
    "        tmp=np.exp(-tmp*tmp*0.5)*(tmp2)\n",
    "        res[i]=np.sum(tmp)\n",
    "    return np.log(res)\n",
    "\n",
    "def enerlikf(vlogE, dme, flu, eflu_u, eflu_l):\n",
    "    BW=1e9\n",
    "    vz=np.arange(1e-4, 5, 1e-3)\n",
    "    vE=np.power(10., vlogE)\n",
    "    res=vE.copy()\n",
    "    for i in range(0, len(vE)):\n",
    "        E=vE[i]\n",
    "        #rE=cos.Luminosity_Distance(vz)\n",
    "        #tmp=(E/(rE*rE*4*np.pi*BW*cos.Jy2CGS)-flu)\n",
    "        tmp = cos.Energy_to_Flu(vz, E) - flu\n",
    "        tmp[tmp>=0]=tmp[tmp>0]/eflu_u\n",
    "        tmp[tmp<0]=tmp[tmp<0]/eflu_l\n",
    "        \n",
    "        dmi = cos.DispersionMeasure_IGM(vz)\n",
    "        u1 = (dme-dmi)*(1+vz)*gal.kappa(vz)\n",
    "        u2 = ((dme-dmi)*(1+vz)-gal.DMsmax)*gal.kappa(vz)\n",
    "        logint = np.ones(u2.shape) * (-1e99)\n",
    "        ind = u2 > 0\n",
    "        logint[ind] = gal.log_IntegrateFd(u1[ind], u2[ind], 'ALG_YMW16')\n",
    "        logfs = np.log(1/(gal.DMsmax))\n",
    "        logfz = gal.log_Distribution_volume(vz)\n",
    "        #vdm=dmh*np.sqrt(gal.SFR(0)/gal.SFR(vz))\n",
    "        tmp2 = np.exp(logint)*gal.Distribution_volume(vz)*(1+vz)\n",
    "        #tmp2=cos.dVdz(vz)*gal.Distribution_HostGalaxyDM(vdm, 'ALG_YMW16')*np.sqrt(gal.SFR(0) /gal.SFR(vz))\n",
    "        #tmp2=gal.Distribution_volume(vz)*gal.Distribution_HostGalaxyDM(vdm, 'ALG_YMW16')*np.sqrt(gal.SFR(0)/gal.SFR(vz))*(1+vz)\n",
    "        tmp=np.exp(-tmp*tmp*0.5)*(tmp2)\n",
    "        res[i]=np.sum(tmp)\n",
    "    return np.log(res)"
   ]
  },
  {
   "cell_type": "code",
   "execution_count": 28,
   "metadata": {
    "collapsed": true
   },
   "outputs": [],
   "source": [
    "frbcat = ldf.LoadCatalogue('frb_cat.txt')"
   ]
  },
  {
   "cell_type": "code",
   "execution_count": 29,
   "metadata": {
    "collapsed": true
   },
   "outputs": [],
   "source": [
    "def DMeq_new(z, dme, dmhost):\n",
    "    dmhz = dmhost * np.sqrt(dis.SFR(z)/dis.SFR(0))\n",
    "    dmi = cos.DispersionMeasure_IGM(z)\n",
    "    return dmi + dmhz/(1+z) - dme\n",
    "\n",
    "def DMh_new(z, dmhost):\n",
    "    dmhz = dmhost * np.sqrt(dis.SFR(z)/dis.SFR(0))\n",
    "    return dmhz\n",
    "\n",
    "def Getz_new(dme, dmhost):\n",
    "    z = fsolve(DMeq_new, z0, args=(dme, dmhost))\n",
    "    z = float(z)\n",
    "    return z"
   ]
  },
  {
   "cell_type": "code",
   "execution_count": 30,
   "metadata": {
    "collapsed": true
   },
   "outputs": [],
   "source": [
    "dme=frbcat['DME_YMW16']\n",
    "zmax = np.zeros(dme.shape)\n",
    "dmh0 = 0\n",
    "\n",
    "flux=frbcat['S']\n",
    "eflux_u=frbcat['Seu']\n",
    "eflux_l=frbcat['Sel']\n",
    "eflux_u[eflux_u==0] =flux[eflux_u==0]*0.2\n",
    "eflux_l[eflux_l==0] =flux[eflux_l==0]*0.2\n",
    "eflux_u=np.abs(eflux_u)\n",
    "eflux_l=np.abs(eflux_l)\n",
    "\n",
    "flu = frbcat['F']\n",
    "eflu_u = frbcat['Feu']\n",
    "eflu_l = frbcat['Fel']\n",
    "eflu_u[eflu_u==0] = flu[eflu_u==0]*0.2\n",
    "eflu_l[eflu_l==0] = flu[eflu_l==0]*0.2\n",
    "eflu_u = np.abs(eflu_u)\n",
    "eflu_l = np.abs(eflu_l)"
   ]
  },
  {
   "cell_type": "code",
   "execution_count": 34,
   "metadata": {},
   "outputs": [
    {
     "name": "stderr",
     "output_type": "stream",
     "text": [
      "/home/luorui/anaconda2/lib/python2.7/site-packages/ipykernel_launcher.py:44: RuntimeWarning: divide by zero encountered in log\n",
      "/home/luorui/anaconda2/lib/python2.7/site-packages/ipykernel_launcher.py:73: RuntimeWarning: divide by zero encountered in log\n"
     ]
    }
   ],
   "source": [
    "f = open(\"./rescat.txt\", 'w')\n",
    "for i in range(0, len(dme)):\n",
    "    zmax[i] = cos.GetZ(dme[i], dmh0)\n",
    "    \n",
    "    idm=dme[i]\n",
    "    iflux=flux[i]\n",
    "    efluxu=eflux_u[i]\n",
    "    efluxl=eflux_l[i]\n",
    "    iflu = flu[i]\n",
    "    efluu = eflu_u[i]\n",
    "    eflul = eflu_l[i]\n",
    "    \n",
    "    vz=np.arange(1e-4, 5, 1e-4)\n",
    "    lam=zlikf(vz,idm)\n",
    "    #print lam\n",
    "    lam=lam-np.max(lam)\n",
    "    #print vz[lam>-2]\n",
    "    zhat=vz[np.argmax(lam)]\n",
    "    z1=np.min(vz[lam>-2])\n",
    "    zel=zhat-z1\n",
    "    z2=np.max(vz[lam>-2])\n",
    "    zeu=z2-zhat\n",
    "\n",
    "    vloglum=np.arange(40, 46, 0.001)\n",
    "    lam = lumlikf(vloglum, [idm], iflux, efluxu, efluxl)\n",
    "    lam = lam - np.max(lam)\n",
    "    loglhat = vloglum[np.argmax(lam)]\n",
    "    logl1 = np.min(vloglum[lam>-2])\n",
    "    loglel=loglhat-logl1\n",
    "    logl2=np.max(vloglum[lam>-2])\n",
    "    logleu=logl2-loglhat\n",
    "    \n",
    "    vlogE=np.arange(38, 44, 0.001)\n",
    "    lam = enerlikf(vlogE, [idm], iflu, efluu, eflul)\n",
    "    lam = lam-np.max(lam)\n",
    "    logehat = vlogE[np.argmax(lam)]\n",
    "    loge1 = np.min(vlogE[lam>-2])\n",
    "    #e1=np.power(10., loge1)\n",
    "    logeel=logehat-loge1\n",
    "    loge2 = np.max(vlogE[lam>-2])\n",
    "    #e2=np.power(10., loge2)\n",
    "    logeeu=loge2-logehat\n",
    "    #print '%.1e'%lhat, '%.1e'%leu, '%.1e'%lel\n",
    "    print >> f, '$%.2f'%zmax[i] + '$ & ' + \\\n",
    "    '$%.3f'%zhat + '^{+' + '%.3f'%(zeu) + '}_{-' + '%.3f'%zel + '}$ & ' + \\\n",
    "    '$%.2f'%loglhat + '^{+' + '%.2f'%(logleu) + '}_{-' + '%.2f'%loglel + '}$ & ' + \\\n",
    "    '$%.2f'%logehat + '^{+' + '%.2f'%(logeeu) + '}_{-' + '%.2f'%logeel + '}$'\n",
    "f.close()"
   ]
  },
  {
   "cell_type": "code",
   "execution_count": null,
   "metadata": {
    "collapsed": true
   },
   "outputs": [],
   "source": []
  }
 ],
 "metadata": {
  "kernelspec": {
   "display_name": "Python 2",
   "language": "python",
   "name": "python2"
  },
  "language_info": {
   "codemirror_mode": {
    "name": "ipython",
    "version": 2
   },
   "file_extension": ".py",
   "mimetype": "text/x-python",
   "name": "python",
   "nbconvert_exporter": "python",
   "pygments_lexer": "ipython2",
   "version": "2.7.14"
  },
  "latex_envs": {
   "LaTeX_envs_menu_present": true,
   "autoclose": false,
   "autocomplete": true,
   "bibliofile": "biblio.bib",
   "cite_by": "apalike",
   "current_citInitial": 1,
   "eqLabelWithNumbers": true,
   "eqNumInitial": 1,
   "hotkeys": {
    "equation": "Ctrl-E",
    "itemize": "Ctrl-I"
   },
   "labels_anchors": false,
   "latex_user_defs": false,
   "report_style_numbering": false,
   "user_envs_cfg": false
  }
 },
 "nbformat": 4,
 "nbformat_minor": 1
}
