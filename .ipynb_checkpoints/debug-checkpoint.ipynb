{
 "cells": [
  {
   "cell_type": "code",
   "execution_count": 1,
   "metadata": {
    "collapsed": true
   },
   "outputs": [],
   "source": [
    "import matplotlib.pyplot as plt\n",
    "%matplotlib inline\n",
    "from mymodel import *"
   ]
  },
  {
   "cell_type": "code",
   "execution_count": 44,
   "metadata": {
    "collapsed": true
   },
   "outputs": [],
   "source": [
    "dis = AstroDistribution()\n",
    "lf = Loadfiles()"
   ]
  },
  {
   "cell_type": "code",
   "execution_count": 48,
   "metadata": {
    "collapsed": true
   },
   "outputs": [],
   "source": [
    "frbcat = lf.LoadSimuData('./simudat/simdat_ALG_NE2001_43.0_-1.0.txt')\n",
    "\n",
    "vFLUX = frbcat['S']\n",
    "vLOGFLUX = np.log10(vFLUX)\n",
    "vDME = frbcat['DMe']\n",
    "vDNU = frbcat['dnu']"
   ]
  },
  {
   "cell_type": "code",
   "execution_count": 49,
   "metadata": {
    "collapsed": true
   },
   "outputs": [],
   "source": [
    "logft = 0.\n",
    "dnu = 1000.\n",
    "logls = 43\n",
    "alpha = -1.0\n",
    "logl0 = 39"
   ]
  },
  {
   "cell_type": "code",
   "execution_count": 50,
   "metadata": {},
   "outputs": [
    {
     "name": "stdout",
     "output_type": "stream",
     "text": [
      "-3.53147026093 [-10.68600594 -10.53434137  -9.90491252 -11.35371725 -11.95524654\n",
      " -15.3066556   -9.99521334 -13.35738638 -13.07098351 -10.8513677\n",
      " -17.24854965 -11.85312391 -12.99059276 -12.47026818 -10.63103042\n",
      " -11.22562385 -12.07760289 -10.44201249 -11.48640349 -13.03962233\n",
      " -11.68688381 -12.097097   -10.77476787 -11.0843573  -10.80276159\n",
      " -12.99749053 -14.76592554 -10.57217037 -10.53339242 -10.59872246\n",
      " -11.91736832  -9.98834025 -10.81694413 -12.7806406   -9.98380764\n",
      " -11.3622796  -10.33252669 -10.18303973 -10.23192133 -10.31606831\n",
      " -13.84838004 -10.15935866 -17.98362659 -10.81920694 -10.36693358\n",
      " -10.24843502 -10.29900487 -11.63594034 -12.88987771 -10.94784791\n",
      " -10.25047165 -10.21196813 -10.17265617 -10.27896845 -16.12327806\n",
      " -11.52661643 -10.44253775 -16.26990949 -16.08968235 -10.80646461\n",
      " -10.57492373 -13.51635632 -11.68751452 -11.7922134  -11.29897807\n",
      " -15.45590544 -14.31354502 -11.34080637  -9.94838074 -10.31753821\n",
      " -10.99454877 -11.30237159 -10.98218337 -11.92258207 -10.48207116\n",
      " -10.83371536 -10.52903077 -12.08313205 -11.48210085 -12.9903792\n",
      " -11.28018079 -10.07914159 -10.37388025 -14.67147054 -11.7801622\n",
      " -11.23670198 -10.17876928 -11.01629031 -11.31708409 -11.58874575\n",
      " -11.10138393 -12.67435308 -10.98063058 -11.29786298 -10.48403638\n",
      " -11.04825599  -9.87865299 -11.28399666 -11.72222177 -10.84484973] -811.218252141\n"
     ]
    }
   ],
   "source": [
    "a = dis.Norm1D(logft, dnu, logls, alpha, logl0)\n",
    "b = dis.log_distr_fdm(dnu, vLOGFLUX, vDME, logls, alpha, logl0, 'ETG')\n",
    "c = np.sum(b-np.log(a))\n",
    "print np.log(a),b,c"
   ]
  },
  {
   "cell_type": "code",
   "execution_count": 35,
   "metadata": {},
   "outputs": [
    {
     "name": "stdout",
     "output_type": "stream",
     "text": [
      "[[ 1.63122374]] [[ 1072.22927679]]\n"
     ]
    }
   ],
   "source": [
    "ind = np.argwhere(b==-1.0000000000e99)\n",
    "#print ind\n",
    "print vFLUX[ind],vDME[ind]"
   ]
  },
  {
   "cell_type": "code",
   "execution_count": 42,
   "metadata": {},
   "outputs": [
    {
     "name": "stdout",
     "output_type": "stream",
     "text": [
      "26.1710110226 47.152089025\n"
     ]
    }
   ],
   "source": [
    "print vFLUX[97], vDME[97]"
   ]
  },
  {
   "cell_type": "code",
   "execution_count": 31,
   "metadata": {},
   "outputs": [
    {
     "data": {
      "text/plain": [
       "array([-9.05810822])"
      ]
     },
     "execution_count": 31,
     "metadata": {},
     "output_type": "execute_result"
    }
   ],
   "source": [
    "dis.log_distr_fdm(dnu, logf, dme, 44, -1.5, 39, 'ETG')"
   ]
  },
  {
   "cell_type": "code",
   "execution_count": 8,
   "metadata": {
    "collapsed": true
   },
   "outputs": [],
   "source": [
    "def test_func(logl, alpha, logls):\n",
    "    ratio = np.power(10., logl-logls)\n",
    "    lik = gammainc(alpha+1, ratio) - gammainc(alpha+1, 2*ratio)\n",
    "    return lik"
   ]
  },
  {
   "cell_type": "code",
   "execution_count": 9,
   "metadata": {
    "collapsed": true
   },
   "outputs": [],
   "source": [
    "logl = np.arange(38, 52, 0.01)\n",
    "alpha = -2.37336823\n",
    "logls = 44.71593106"
   ]
  },
  {
   "cell_type": "code",
   "execution_count": 10,
   "metadata": {},
   "outputs": [
    {
     "data": {
      "text/plain": [
       "-1.0772872111084564e-311"
      ]
     },
     "execution_count": 10,
     "metadata": {},
     "output_type": "execute_result"
    }
   ],
   "source": [
    "y = test_func(logl, alpha, logls)/np.log(2)\n",
    "np.min(y)"
   ]
  },
  {
   "cell_type": "code",
   "execution_count": 11,
   "metadata": {},
   "outputs": [
    {
     "data": {
      "image/png": "[encoded data removed]",
      "text/plain": [
       "<matplotlib.figure.Figure at 0x7fd7cf64d6d0>"
      ]
     },
     "metadata": {},
     "output_type": "display_data"
    }
   ],
   "source": [
    "plt.plot(logl, y, 'r')\n",
    "#plt.xlim(43.5, 44)\n",
    "plt.yscale('log')\n",
    "plt.show()"
   ]
  },
  {
   "cell_type": "code",
   "execution_count": 6,
   "metadata": {},
   "outputs": [
    {
     "name": "stderr",
     "output_type": "stream",
     "text": [
      "/home/luorui/anaconda2/lib/python2.7/site-packages/ipykernel_launcher.py:1: RuntimeWarning: invalid value encountered in log\n",
      "  \"\"\"Entry point for launching an IPython kernel.\n"
     ]
    },
    {
     "data": {
      "text/plain": [
       "nan"
      ]
     },
     "execution_count": 6,
     "metadata": {},
     "output_type": "execute_result"
    }
   ],
   "source": [
    "np.log(-1)"
   ]
  },
  {
   "cell_type": "code",
   "execution_count": 9,
   "metadata": {
    "collapsed": true
   },
   "outputs": [],
   "source": [
    "cos = Cosmology()"
   ]
  },
  {
   "cell_type": "code",
   "execution_count": 17,
   "metadata": {},
   "outputs": [
    {
     "data": {
      "text/plain": [
       "8.8421271004497406"
      ]
     },
     "execution_count": 17,
     "metadata": {},
     "output_type": "execute_result"
    }
   ],
   "source": [
    "cos.Comoving_Distance(2e-6)/cos.pc2cm/1e3"
   ]
  },
  {
   "cell_type": "code",
   "execution_count": 2,
   "metadata": {
    "collapsed": true
   },
   "outputs": [],
   "source": [
    "vz=np.arange(1e-4, 5, 1e-3)\n",
    "vlogeps=np.random.uniform(-np.log(2), 0, vz.shape)"
   ]
  },
  {
   "cell_type": "code",
   "execution_count": 3,
   "metadata": {},
   "outputs": [
    {
     "name": "stdout",
     "output_type": "stream",
     "text": [
      "[-0.58856718 -0.1126352  -0.63892    ..., -0.654977   -0.44348172\n",
      " -0.15014845]\n"
     ]
    }
   ],
   "source": []
  },
  {
   "cell_type": "code",
   "execution_count": null,
   "metadata": {
    "collapsed": true
   },
   "outputs": [],
   "source": []
  }
 ],
 "metadata": {
  "kernelspec": {
   "display_name": "Python 2",
   "language": "python",
   "name": "python2"
  },
  "language_info": {
   "codemirror_mode": {
    "name": "ipython",
    "version": 2
   },
   "file_extension": ".py",
   "mimetype": "text/x-python",
   "name": "python",
   "nbconvert_exporter": "python",
   "pygments_lexer": "ipython2",
   "version": "2.7.14"
  },
  "latex_envs": {
   "LaTeX_envs_menu_present": true,
   "autoclose": false,
   "autocomplete": true,
   "bibliofile": "biblio.bib",
   "cite_by": "apalike",
   "current_citInitial": 1,
   "eqLabelWithNumbers": true,
   "eqNumInitial": 1,
   "hotkeys": {
    "equation": "Ctrl-E",
    "itemize": "Ctrl-I"
   },
   "labels_anchors": false,
   "latex_user_defs": false,
   "report_style_numbering": false,
   "user_envs_cfg": false
  }
 },
 "nbformat": 4,
 "nbformat_minor": 2
}
